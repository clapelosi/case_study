{
 "cells": [
  {
   "cell_type": "code",
   "execution_count": null,
   "metadata": {},
   "outputs": [],
   "source": []
  }
 ],
 "metadata": {
  "kernelspec": {
   "display_name": "Python 3",
   "language": "python",
   "name": "python3"
  },
  "language_info": {
   "name": "python",
   "version": "3.10.10"
  },
  "orig_nbformat": 4,
  "vscode": {
   "interpreter": {
    "hash": "2e519ce442b8eeefdebd658ec594ef3799ffeff02a7d30e4e7a6494daf4f88b8"
   }
  }
 },
 "nbformat": 4,
 "nbformat_minor": 2
}
